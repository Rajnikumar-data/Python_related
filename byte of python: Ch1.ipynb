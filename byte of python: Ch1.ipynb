{
 "cells": [
  {
   "cell_type": "markdown",
   "metadata": {},
   "source": [
    "# Byte of python code all command in one place:\n",
    "Python v3... For Beginners\n",
    "Chapter 1: Python language style\n"
   ]
  },
  {
   "cell_type": "code",
   "execution_count": 1,
   "metadata": {
    "scrolled": true
   },
   "outputs": [
    {
     "name": "stdout",
     "output_type": "stream",
     "text": [
      "The \"return\" statement\n",
      "**********************\n",
      "\n",
      "   return_stmt ::= \"return\" [expression_list]\n",
      "\n",
      "\"return\" may only occur syntactically nested in a function definition,\n",
      "not within a nested class definition.\n",
      "\n",
      "If an expression list is present, it is evaluated, else \"None\" is\n",
      "substituted.\n",
      "\n",
      "\"return\" leaves the current function call with the expression list (or\n",
      "\"None\") as return value.\n",
      "\n",
      "When \"return\" passes control out of a \"try\" statement with a \"finally\"\n",
      "clause, that \"finally\" clause is executed before really leaving the\n",
      "function.\n",
      "\n",
      "In a generator function, the \"return\" statement indicates that the\n",
      "generator is done and will cause \"StopIteration\" to be raised. The\n",
      "returned value (if any) is used as an argument to construct\n",
      "\"StopIteration\" and becomes the \"StopIteration.value\" attribute.\n",
      "\n",
      "In an asynchronous generator function, an empty \"return\" statement\n",
      "indicates that the asynchronous generator is done and will cause\n",
      "\"StopAsyncIteration\" to be raised.  A non-empty \"return\" statement is\n",
      "a syntax error in an asynchronous generator function.\n",
      "\n",
      "Related help topics: FUNCTIONS\n",
      "\n"
     ]
    }
   ],
   "source": [
    "help (\"return\") # using help for particular fnction"
   ]
  },
  {
   "cell_type": "code",
   "execution_count": 2,
   "metadata": {},
   "outputs": [
    {
     "name": "stdout",
     "output_type": "stream",
     "text": [
      "Hello World\n"
     ]
    }
   ],
   "source": [
    "print (\"Hello World\") # is used to comment and define the function\n"
   ]
  },
  {
   "cell_type": "raw",
   "metadata": {},
   "source": [
    "# Literal constants: 5, 123, \"This is string\" etc: literal use of their value and remain unchaged.\n",
    "# Number: Integer and float (No limit of length)\n",
    "# String: Sequence of characters, single/ double quotes are use.('Hello World') or {\"Hello world\")\n",
    "         # triple quotes for multiple lines and help touse single and double quotes freey\n",
    "    # strings are immutable\n"
   ]
  },
  {
   "cell_type": "code",
   "execution_count": 3,
   "metadata": {},
   "outputs": [
    {
     "name": "stdout",
     "output_type": "stream",
     "text": [
      "Swaroop was 20 years old when he wrote this book.\n",
      "Swaroop was 20 years old when he wrote this book.\n",
      "Swaroop was 20 years old when he wrote this book.\n",
      "Swaroop was 20 years old when he wrote this book.\n"
     ]
    }
   ],
   "source": [
    "# format method: there are 4 different method for the same\n",
    "# format method defines the place of substitution of each argument value\n",
    "age = 20\n",
    "name = \"Swaroop\"\n",
    "\n",
    "# Method 1: variable string within bracket and also defined in the last as format method.\n",
    "print('{name} was {age} years old when he wrote this book.'.format(name = name, age = age))\n",
    "\n",
    "# Method 2: Variable defined with number, starting from 0 and order is defined by the format function.\n",
    "print('{0} was {1} years old when he wrote this book.'.format(name, age))\n",
    "\n",
    "# Method 3: No number, only bracketswith format method\n",
    "print('{} was {} years old when he wrote this book.'.format(name, age))\n",
    "\n",
    "# Method 4: in python 3.6 and above format is replaced by f' in front with variable defined within bracket\n",
    "print(f'{name} was {age} years old when he wrote this book.')\n",
    "\n"
   ]
  },
  {
   "cell_type": "code",
   "execution_count": 5,
   "metadata": {},
   "outputs": [
    {
     "name": "stdout",
     "output_type": "stream",
     "text": [
      " 0.333\n",
      "___hello___\n"
     ]
    }
   ],
   "source": [
    "# other examples of format method\n",
    "\n",
    "# decimal precision for float '0.333' # in this 3f denotes . at 3rd place of floating number\n",
    "print('{0: .3f}'.format(1.0/3))\n",
    "\n",
    "#(^) to 11 width '_hello_'\n",
    "print ('{0:_^11}'.format('hello'))"
   ]
  },
  {
   "cell_type": "code",
   "execution_count": 10,
   "metadata": {},
   "outputs": [
    {
     "name": "stdout",
     "output_type": "stream",
     "text": [
      "abc "
     ]
    }
   ],
   "source": [
    "# printing two strings in same line. removing the new line in-built featre of print statement\n",
    "\n",
    "print(\"a\", end=\"\")\n",
    "print(\"b\", end=\"\")\n",
    "print(\"c\", end=\" \")\n",
    "\n",
    "\n"
   ]
  },
  {
   "cell_type": "code",
   "execution_count": 9,
   "metadata": {},
   "outputs": [
    {
     "name": "stdout",
     "output_type": "stream",
     "text": [
      "a b c "
     ]
    }
   ],
   "source": [
    "# printing two strings in same line with space between characters.\n",
    "\n",
    "print(\"a\", end=\" \")\n",
    "print(\"b\", end=\" \")\n",
    "print(\"c\", end=\" \")"
   ]
  },
  {
   "cell_type": "code",
   "execution_count": 15,
   "metadata": {},
   "outputs": [
    {
     "name": "stdout",
     "output_type": "stream",
     "text": [
      "What's your name?\n",
      "What's your name?\n",
      "What's your name? My name is Rajni.\n",
      "What's your name? \n",
      " My name is Rajni.\n",
      "What's your name?\tMy name is Rajni.\n",
      "What's your name? My name is Rajni.\n"
     ]
    }
   ],
   "source": [
    "# Escape sequences used for quotes within string, multiple lines, tab, \\n lines\n",
    "\n",
    "print(\"What's your name?\") # double quotes to help single quote inside\n",
    "# print('What's your name?')\n",
    "print('What\\'s your name?') # \\ to retain single quote within single quote\n",
    "\n",
    "print(\"What's your name? My name is Rajni.\") # without below lines continued\n",
    "print(\"What's your name? \\n My name is Rajni.\") # \\n new line addintion\n",
    "\n",
    "print(\"What's your name?\\tMy name is Rajni.\") # \\t adding tab\n",
    "\n",
    "print(\"What's your name? \\ # \\ for continuing the line.\n",
    "My name is Rajni.\")"
   ]
  },
  {
   "cell_type": "raw",
   "metadata": {},
   "source": [
    "# variable: name storing value that can vary . Variables are identifiers.\n",
    "# Rules for identifier/variable\n",
    "# 1) first letter either letter of the alphabet (a,b,c etc..)or unscore (_) not number\n",
    "# 2) Case sensitive: name is not Name\n",
    "#3) space bar cannit be used, instead unscore for space is used\n",
    "\n"
   ]
  },
  {
   "cell_type": "code",
   "execution_count": 17,
   "metadata": {},
   "outputs": [
    {
     "name": "stdout",
     "output_type": "stream",
     "text": [
      "5\n",
      "6\n",
      "Sushant Singh Rajput was wonderful actor.\n"
     ]
    }
   ],
   "source": [
    "# Using variable and literal constant\n",
    "# Assigning variable to number or string(\"\")\n",
    "# As pyhton is interpreted language( dynamic language) therefore data type is defined determined during runtime \n",
    "# whereas in static language variaable are used by just assigning them a value. No declaration or data type is needed/used.\n",
    "i = 5\n",
    "print(i)\n",
    "i = i + 1\n",
    "print (i) # This shows how variable vary and value of variable is always the current value after operation.\n",
    "\n",
    "\n",
    "# using variable for string\n",
    "\n",
    "s = \"Sushant Singh Rajput was wonderful actor.\"\n",
    "\n",
    "print(s) # s variable set for string and used for printing"
   ]
  },
  {
   "cell_type": "code",
   "execution_count": 24,
   "metadata": {},
   "outputs": [
    {
     "name": "stdout",
     "output_type": "stream",
     "text": [
      "5\n",
      "5\n",
      "5\n",
      "5\n",
      "This is a string. This continues the string.\n",
      "This is a string. This continues the string.\n"
     ]
    }
   ],
   "source": [
    "# Logical Vs Physical line. In python one line of code(physically) is used as one line of logical line.\n",
    "# you can use semicolon to have two logical lines in same physical line but it is not very readable therefore not a preferred way of programming.\n",
    "# in case teher are multiple line of logocal codes then it can be divided into multiple physical lines by bacllash(\\)\n",
    "\n",
    "# These statements are same\n",
    "\n",
    "i = 5 # two logocal and two physical\n",
    "print(i)\n",
    "\n",
    "i = 5; \n",
    "print(i);\n",
    "\n",
    "i = 5; print(i) \n",
    "\n",
    "i = 5; print(i) # two logical one physical\n",
    "\n",
    "\n",
    "# using backlash. one logical and two physical\n",
    "\n",
    "s = 'This is a string. This continues the string.'\n",
    "print(s)\n",
    "\n",
    "s = 'This is a string. \\\n",
    "This continues the string.'\n",
    "\n",
    "print(s)"
   ]
  },
  {
   "cell_type": "code",
   "execution_count": 26,
   "metadata": {},
   "outputs": [
    {
     "ename": "IndentationError",
     "evalue": "unexpected indent (<ipython-input-26-6f191ad28f50>, line 4)",
     "output_type": "error",
     "traceback": [
      "\u001b[0;36m  File \u001b[0;32m\"<ipython-input-26-6f191ad28f50>\"\u001b[0;36m, line \u001b[0;32m4\u001b[0m\n\u001b[0;31m    print(i)\u001b[0m\n\u001b[0m    ^\u001b[0m\n\u001b[0;31mIndentationError\u001b[0m\u001b[0;31m:\u001b[0m unexpected indent\n"
     ]
    }
   ],
   "source": [
    "# indentation: Default four spaces for the same logical statements going together\n",
    "# Editors do it own but use spacebar instead of tab to do indentation prefeferable if you are doing it by your own.i\n",
    "# statements which are part of indentation are collectively called block.\n",
    "i = 5 # example of wrong indentation with error\n",
    "    print(i)"
   ]
  },
  {
   "cell_type": "code",
   "execution_count": null,
   "metadata": {},
   "outputs": [],
   "source": []
  }
 ],
 "metadata": {
  "kernelspec": {
   "display_name": "Python 3",
   "language": "python",
   "name": "python3"
  },
  "language_info": {
   "codemirror_mode": {
    "name": "ipython",
    "version": 3
   },
   "file_extension": ".py",
   "mimetype": "text/x-python",
   "name": "python",
   "nbconvert_exporter": "python",
   "pygments_lexer": "ipython3",
   "version": "3.7.4"
  }
 },
 "nbformat": 4,
 "nbformat_minor": 2
}
