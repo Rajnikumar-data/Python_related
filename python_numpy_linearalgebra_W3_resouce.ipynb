{
 "cells": [
  {
   "cell_type": "raw",
   "metadata": {},
   "source": [
    "Write a NumPy program to compute the multiplication of two given matrixes. "
   ]
  },
  {
   "cell_type": "code",
   "execution_count": 13,
   "metadata": {},
   "outputs": [
    {
     "name": "stdout",
     "output_type": "stream",
     "text": [
      "x is:\n",
      "[3 5 7 9]\n",
      "y is:\n",
      "[ 4  6  8 10]\n",
      "dot_method_xy:\n",
      "[[17 30]\n",
      " [40 69]]\n",
      "a is:\n",
      "[[1, 3], [5, 6]]\n",
      "b is:\n",
      "[[2, 3], [5, 9]]\n",
      "dot_method_ab:\n",
      "[[17 30]\n",
      " [40 69]]\n"
     ]
    }
   ],
   "source": [
    "import numpy as np\n",
    "# vector\n",
    "x =np.arange(3,10,2)\n",
    "print(\"x is:\")\n",
    "print(x)\n",
    "y = np.arange(4,12,2)\n",
    "print(\"y is:\")\n",
    "print(y)\n",
    "dot_product_xy = np.dot(x,y)\n",
    "print(\"dot_method_xy:\")\n",
    "print(dot_product)\n",
    "# matrix\n",
    "a =[[1,3], [5,6]]\n",
    "print(\"a is:\")\n",
    "print(a)\n",
    "b = [[2,3], [5,9]]\n",
    "print(\"b is:\")\n",
    "print(b)\n",
    "\n",
    "dot_product_ab = np.dot(a,b)\n",
    "print(\"dot_method_ab:\")\n",
    "print(dot_product_ab)\n",
    "\n"
   ]
  },
  {
   "cell_type": "raw",
   "metadata": {},
   "source": [
    "Write a NumPy program to compute the outer product of two given vectors. "
   ]
  },
  {
   "cell_type": "code",
   "execution_count": 14,
   "metadata": {},
   "outputs": [
    {
     "name": "stdout",
     "output_type": "stream",
     "text": [
      "a is:\n",
      "[[1, 3], [5, 6]]\n",
      "b is:\n",
      "[[2, 3], [5, 9]]\n",
      "dot_outer_ab:\n",
      "[[ 2  3  5  9]\n",
      " [ 6  9 15 27]\n",
      " [10 15 25 45]\n",
      " [12 18 30 54]]\n"
     ]
    }
   ],
   "source": [
    "a =[[1,3], [5,6]]\n",
    "print(\"a is:\")\n",
    "print(a)\n",
    "b = [[2,3], [5,9]]\n",
    "print(\"b is:\")\n",
    "print(b)\n",
    "\n",
    "outer_product_ab = np.outer(a,b)\n",
    "print(\"dot_outer_ab:\")\n",
    "print(outer_product_ab)"
   ]
  },
  {
   "cell_type": "raw",
   "metadata": {},
   "source": [
    "Write a NumPy program to compute the cross product of two given vectors"
   ]
  },
  {
   "cell_type": "code",
   "execution_count": 9,
   "metadata": {},
   "outputs": [
    {
     "name": "stdout",
     "output_type": "stream",
     "text": [
      "a is:\n",
      "[[2, 3], [5, 4]]\n",
      "b is:\n",
      "[[2, 3], [5, 9]]\n",
      "multiply product:  [[ 4  9]\n",
      " [25 36]]\n",
      "dot_product:  [[19 33]\n",
      " [30 51]]\n",
      "outer_product:  [[ 4  6 10 18]\n",
      " [ 6  9 15 27]\n",
      " [10 15 25 45]\n",
      " [ 8 12 20 36]]\n",
      "cross_product is:  [ 0 25]\n"
     ]
    }
   ],
   "source": [
    "import numpy as np\n",
    "a =[[2,3], [5,4]]\n",
    "print(\"a is:\")\n",
    "print(a)\n",
    "b = [[2,3], [5,9]]\n",
    "print(\"b is:\")\n",
    "print(b)\n",
    "multiply_product = np.multiply(a,b)\n",
    "print(\"multiply product: \",multiply_product)\n",
    "dot_product = np.dot(a,b)\n",
    "print(\"dot_product: \",dot_product)\n",
    "outer_product = np.outer(a,b)\n",
    "print(\"outer_product: \",outer_product)\n",
    "cross_product = np.cross(a,b)\n",
    "print(\"cross_product is: \",cross_product)"
   ]
  },
  {
   "cell_type": "code",
   "execution_count": null,
   "metadata": {},
   "outputs": [],
   "source": []
  }
 ],
 "metadata": {
  "kernelspec": {
   "display_name": "Python 3",
   "language": "python",
   "name": "python3"
  },
  "language_info": {
   "codemirror_mode": {
    "name": "ipython",
    "version": 3
   },
   "file_extension": ".py",
   "mimetype": "text/x-python",
   "name": "python",
   "nbconvert_exporter": "python",
   "pygments_lexer": "ipython3",
   "version": "3.7.4"
  }
 },
 "nbformat": 4,
 "nbformat_minor": 2
}
