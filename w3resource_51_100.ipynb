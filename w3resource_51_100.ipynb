{
 "cells": [
  {
   "cell_type": "raw",
   "metadata": {},
   "source": [
    "Write a Python program to determine profiling of Python programs."
   ]
  },
  {
   "cell_type": "code",
   "execution_count": 2,
   "metadata": {},
   "outputs": [
    {
     "name": "stdout",
     "output_type": "stream",
     "text": [
      "3\n",
      "         39 function calls in 0.001 seconds\n",
      "\n",
      "   Ordered by: standard name\n",
      "\n",
      "   ncalls  tottime  percall  cumtime  percall filename:lineno(function)\n",
      "        1    0.000    0.000    0.001    0.001 <ipython-input-2-549c8bcb7d43>:3(sum)\n",
      "        1    0.000    0.000    0.001    0.001 <string>:1(<module>)\n",
      "        3    0.000    0.000    0.001    0.000 iostream.py:197(schedule)\n",
      "        2    0.000    0.000    0.000    0.000 iostream.py:309(_is_master_process)\n",
      "        2    0.000    0.000    0.000    0.000 iostream.py:322(_schedule_flush)\n",
      "        2    0.000    0.000    0.001    0.000 iostream.py:384(write)\n",
      "        3    0.000    0.000    0.000    0.000 iostream.py:93(_event_pipe)\n",
      "        3    0.000    0.000    0.000    0.000 socket.py:342(send)\n",
      "        3    0.000    0.000    0.000    0.000 threading.py:1050(_wait_for_tstate_lock)\n",
      "        3    0.000    0.000    0.000    0.000 threading.py:1092(is_alive)\n",
      "        3    0.000    0.000    0.000    0.000 threading.py:507(is_set)\n",
      "        1    0.000    0.000    0.001    0.001 {built-in method builtins.exec}\n",
      "        2    0.000    0.000    0.000    0.000 {built-in method builtins.isinstance}\n",
      "        1    0.000    0.000    0.001    0.001 {built-in method builtins.print}\n",
      "        2    0.000    0.000    0.000    0.000 {built-in method posix.getpid}\n",
      "        3    0.000    0.000    0.000    0.000 {method 'acquire' of '_thread.lock' objects}\n",
      "        3    0.000    0.000    0.000    0.000 {method 'append' of 'collections.deque' objects}\n",
      "        1    0.000    0.000    0.000    0.000 {method 'disable' of '_lsprof.Profiler' objects}\n",
      "\n",
      "\n"
     ]
    }
   ],
   "source": [
    "#A profile is a set of statistics that describes how often and for how long various parts of the program executed. These statistics can be formatted into reports via the pstats module.\n",
    "import cProfile\n",
    "def sum():\n",
    "    print(1+2)\n",
    "cProfile.run('sum()')"
   ]
  },
  {
   "cell_type": "raw",
   "metadata": {},
   "source": [
    "Write a Python program to print to stderr. "
   ]
  },
  {
   "cell_type": "code",
   "execution_count": 6,
   "metadata": {},
   "outputs": [
    {
     "name": "stderr",
     "output_type": "stream",
     "text": [
      "abc--efg--xyz\n"
     ]
    }
   ],
   "source": [
    "# args: arguments and kwargs: keyword arguments\n",
    "\n",
    "from __future__ import print_function\n",
    "import sys\n",
    "\n",
    "def eprint(*args, **kwargs):\n",
    "    print(*args, file = sys.stderr, **kwargs)\n",
    "eprint(\"abc\", \"efg\", \"xyz\", sep = \"--\")"
   ]
  },
  {
   "cell_type": "raw",
   "metadata": {},
   "source": [
    "# Write a python program to access environment variables."
   ]
  },
  {
   "cell_type": "code",
   "execution_count": 7,
   "metadata": {},
   "outputs": [
    {
     "name": "stdout",
     "output_type": "stream",
     "text": [
      "*--------------------------*\n",
      "environ({'TERM_PROGRAM': 'Apple_Terminal', 'TERM': 'xterm-color', 'SHELL': '/bin/bash', 'TMPDIR': '/var/folders/fd/4l98ylkd64z0zt_lfjdh7st80000gq/T/', 'Apple_PubSub_Socket_Render': '/private/tmp/com.apple.launchd.VwOWsy1nuT/Render', 'CONDA_SHLVL': '1', 'TERM_PROGRAM_VERSION': '421.2', 'CONDA_PROMPT_MODIFIER': '(base) ', 'TERM_SESSION_ID': 'B8F1BB05-FA22-454C-9B50-0876EA9B73E8', 'LC_ALL': 'en_US.UTF-8', 'USER': 'learn', 'CONDA_EXE': '/Users/learn/opt/anaconda3/bin/conda', 'SSH_AUTH_SOCK': '/private/tmp/com.apple.launchd.fgQ8w80lrX/Listeners', '_CE_CONDA': '', 'CONDA_ROOT': '/Users/learn/opt/anaconda3', 'PATH': '/Users/learn/opt/anaconda3/bin:/usr/local/bin:/usr/bin:/bin:/usr/sbin:/sbin:/opt/X11/bin', 'CONDA_PREFIX': '/Users/learn/opt/anaconda3', 'PWD': '/Users/learn', 'LANG': 'en_US.UTF-8', 'XPC_FLAGS': '0x0', '_CE_M': '', 'XPC_SERVICE_NAME': '0', 'SHLVL': '4', 'HOME': '/Users/learn', 'QT_API': 'pyqt5', 'CONDA_PYTHON_EXE': '/Users/learn/opt/anaconda3/bin/python', 'LOGNAME': 'learn', 'LC_CTYPE': 'UTF-8', 'CONDA_DEFAULT_ENV': 'base', 'DISPLAY': '/private/tmp/com.apple.launchd.BTHsMhVth9/org.macosforge.xquartz:0', '_': '/Users/learn/opt/anaconda3/bin/jupyter-notebook', 'KERNEL_LAUNCH_TIMEOUT': '40', 'JPY_PARENT_PID': '33482', 'CLICOLOR': '1', 'PAGER': 'cat', 'GIT_PAGER': 'cat', 'MPLBACKEND': 'module://ipykernel.pylab.backend_inline'})\n",
      "*--------------------------*\n",
      "/Users/learn\n",
      "*--------------------------*\n",
      "/Users/learn/opt/anaconda3/bin:/usr/local/bin:/usr/bin:/bin:/usr/sbin:/sbin:/opt/X11/bin\n",
      "*--------------------------*\n"
     ]
    }
   ],
   "source": [
    "import os\n",
    "#Access all environment variables\n",
    "print('*--------------------------*')\n",
    "print(os.environ)\n",
    "print('*--------------------------*')\n",
    "#Access a particular environment variable\n",
    "print(os.environ['HOME'])\n",
    "print('*--------------------------*')\n",
    "print(os.environ['PATH'])\n",
    "print('*--------------------------*')\n"
   ]
  },
  {
   "cell_type": "raw",
   "metadata": {},
   "source": [
    "Write a Python program to get the current username "
   ]
  },
  {
   "cell_type": "code",
   "execution_count": 9,
   "metadata": {},
   "outputs": [
    {
     "name": "stdout",
     "output_type": "stream",
     "text": [
      "learn\n"
     ]
    }
   ],
   "source": [
    "# get is usd for knowing dir as well as user name\n",
    "import getpass\n",
    "print(getpass.getuser())"
   ]
  },
  {
   "cell_type": "raw",
   "metadata": {},
   "source": [
    " # I did not get this command\n",
    " Write a Python to find local IP addresses using Python's stdlib"
   ]
  },
  {
   "cell_type": "code",
   "execution_count": 13,
   "metadata": {},
   "outputs": [
    {
     "name": "stdout",
     "output_type": "stream",
     "text": [
      "192.168.50.141\n"
     ]
    }
   ],
   "source": [
    "import socket\n",
    "print([l for l in ([ip for ip in socket.gethostbyname_ex(socket.gethostname())[2] \n",
    "if not ip.startswith(\"127.\")][:1], [[(s.connect(('8.8.8.8', 53)), \n",
    "s.getsockname()[0], s.close()) for s in [socket.socket(socket.AF_INET, \n",
    "socket.SOCK_DGRAM)]][0][1]]) if l][0][0])"
   ]
  },
  {
   "cell_type": "code",
   "execution_count": null,
   "metadata": {},
   "outputs": [],
   "source": []
  }
 ],
 "metadata": {
  "kernelspec": {
   "display_name": "Python 3",
   "language": "python",
   "name": "python3"
  },
  "language_info": {
   "codemirror_mode": {
    "name": "ipython",
    "version": 3
   },
   "file_extension": ".py",
   "mimetype": "text/x-python",
   "name": "python",
   "nbconvert_exporter": "python",
   "pygments_lexer": "ipython3",
   "version": "3.7.4"
  }
 },
 "nbformat": 4,
 "nbformat_minor": 2
}
