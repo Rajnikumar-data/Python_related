{
 "cells": [
  {
   "cell_type": "code",
   "execution_count": 1,
   "metadata": {},
   "outputs": [],
   "source": [
    "spam_amount = 0"
   ]
  },
  {
   "cell_type": "code",
   "execution_count": 2,
   "metadata": {},
   "outputs": [],
   "source": [
    "spam_amount = spam_amount + 4"
   ]
  },
  {
   "cell_type": "code",
   "execution_count": 4,
   "metadata": {},
   "outputs": [
    {
     "name": "stdout",
     "output_type": "stream",
     "text": [
      "But I don't want any spam1\n",
      "SpamSpamSpamSpam\n"
     ]
    }
   ],
   "source": [
    "if spam_amount > 0:\n",
    "    print(\"But I don't want any spam1\")\n",
    "viking_song = \"Spam\" * spam_amount\n",
    "print(viking_song)"
   ]
  },
  {
   "cell_type": "code",
   "execution_count": 10,
   "metadata": {},
   "outputs": [
    {
     "data": {
      "text/plain": [
       "4"
      ]
     },
     "execution_count": 10,
     "metadata": {},
     "output_type": "execute_result"
    }
   ],
   "source": []
  },
  {
   "cell_type": "code",
   "execution_count": 11,
   "metadata": {},
   "outputs": [
    {
     "name": "stdout",
     "output_type": "stream",
     "text": [
      "1\n",
      "3\n"
     ]
    }
   ],
   "source": [
    "print(min(1,2,3))\n",
    "print(max(1,2,3))"
   ]
  },
  {
   "cell_type": "code",
   "execution_count": 13,
   "metadata": {},
   "outputs": [
    {
     "name": "stdout",
     "output_type": "stream",
     "text": [
      "32\n",
      "32\n"
     ]
    }
   ],
   "source": [
    "print(abs(-32))\n",
    "print(abs(32))"
   ]
  },
  {
   "cell_type": "code",
   "execution_count": 28,
   "metadata": {},
   "outputs": [
    {
     "name": "stdout",
     "output_type": "stream",
     "text": [
      "9 0 1\n"
     ]
    }
   ],
   "source": [
    "def least_difference(a, b, c):\n",
    "    diff1 = abs(a-b)\n",
    "    diff2 = abs(b-c)\n",
    "    diff3 = abs(a-c)\n",
    "    return min(diff1, diff2, diff3)\n",
    "\n",
    "print(\n",
    "    least_difference(1, 10, 100),\n",
    "    least_difference(1, 10, 10),\n",
    "    least_difference(5, 6, 7))"
   ]
  },
  {
   "cell_type": "code",
   "execution_count": null,
   "metadata": {},
   "outputs": [],
   "source": [
    "# Docstrings help in defining the fnction an should be used for the understandable coding"
   ]
  },
  {
   "cell_type": "code",
   "execution_count": 31,
   "metadata": {},
   "outputs": [
    {
     "name": "stdout",
     "output_type": "stream",
     "text": [
      "1>2>3\n"
     ]
    }
   ],
   "source": [
    "print(1, 2, 3, sep = '>')"
   ]
  },
  {
   "cell_type": "code",
   "execution_count": 33,
   "metadata": {},
   "outputs": [
    {
     "name": "stdout",
     "output_type": "stream",
     "text": [
      "Hello Rajni\n",
      "Hello Kaggle\n",
      "Hello Radhika\n"
     ]
    }
   ],
   "source": [
    "def greet(who = 'Rajni'):\n",
    "    print('Hello', who)\n",
    "greet()\n",
    "greet(who = 'Kaggle')\n",
    "greet(who = 'Radhika')"
   ]
  },
  {
   "cell_type": "code",
   "execution_count": 37,
   "metadata": {},
   "outputs": [
    {
     "name": "stdout",
     "output_type": "stream",
     "text": [
      "5\n",
      "25\n"
     ]
    }
   ],
   "source": [
    "def mult_by_five(x):\n",
    "    return 5 * x\n",
    "def call(fn, arg):\n",
    "    return fn(arg)\n",
    "def squared_call(fn, arg):\n",
    "    return fn(fn(arg))\n",
    "\n",
    "print (call(mult_by_five, 1),\n",
    "      squared_call(mult_by_five, 1),\n",
    "      sep = '\\n')\n",
    "    \n",
    "    "
   ]
  },
  {
   "cell_type": "code",
   "execution_count": 42,
   "metadata": {},
   "outputs": [
    {
     "name": "stdout",
     "output_type": "stream",
     "text": [
      "Whice number is biggest?\n",
      "100\n",
      "Which number is the biggest modulo 5?\n",
      "14\n"
     ]
    }
   ],
   "source": [
    "def mod_5(x):\n",
    "    return x % 5\n",
    "\n",
    "print (\"Whice number is biggest?\",\n",
    "      max(100, 51, 14),\n",
    "      \"Which number is the biggest modulo 5?\",\n",
    "       max(100, 51, 14, key = mod_5),\n",
    "      sep='\\n')"
   ]
  },
  {
   "cell_type": "code",
   "execution_count": 44,
   "metadata": {},
   "outputs": [
    {
     "name": "stdout",
     "output_type": "stream",
     "text": [
      "3.146\n",
      "335000\n"
     ]
    }
   ],
   "source": [
    "# round function can have + as well as - digits.\n",
    "print(round(3.14567, 3))\n",
    "print(round(334526, -3))"
   ]
  },
  {
   "cell_type": "code",
   "execution_count": 49,
   "metadata": {},
   "outputs": [
    {
     "name": "stdout",
     "output_type": "stream",
     "text": [
      "13 is positive\n",
      "0.5714285714285714 is positive\n",
      "-15 is negative\n"
     ]
    }
   ],
   "source": [
    "def inspect(x):\n",
    "    if x == 0:\n",
    "        print(x, \"is zero\")\n",
    "    elif x > 0:\n",
    "        print(x, \"is positive\")\n",
    "    elif x < 0:\n",
    "        print (x, \"is negative\")\n",
    "    else:\n",
    "        print(x, \"is unlike anything I've ever seen\")\n",
    "        \n",
    "        \n",
    "inspect(13)\n",
    "inspect(4/7)\n",
    "inspect(-15)\n",
    "    "
   ]
  },
  {
   "cell_type": "code",
   "execution_count": 53,
   "metadata": {},
   "outputs": [
    {
     "name": "stdout",
     "output_type": "stream",
     "text": [
      "Only printed when x is positive; x = 1\n",
      "Also only printed when x is positive x = 1\n",
      "Always printed, regardless of x's value 1\n",
      "Always printed, regardless of x's value 0\n"
     ]
    }
   ],
   "source": [
    "def f(x):\n",
    "    if x > 0:\n",
    "        print(\"Only printed when x is positive; x =\", x)\n",
    "        print (\"Also only printed when x is positive x =\", x)\n",
    "    print(\"Always printed, regardless of x's value\", x )\n",
    "\n",
    "f(1)\n",
    "f(0)"
   ]
  },
  {
   "cell_type": "code",
   "execution_count": 57,
   "metadata": {},
   "outputs": [
    {
     "name": "stdout",
     "output_type": "stream",
     "text": [
      "Mercury Venus Earth Mars Jupiter Saturn Uranus Neptune "
     ]
    }
   ],
   "source": [
    "planets = ['Mercury', 'Venus', 'Earth', 'Mars', 'Jupiter', 'Saturn', 'Uranus', 'Neptune']\n",
    "for planet in planets:\n",
    "    print(planet, end =' ') # end with space print with single space in one line"
   ]
  },
  {
   "cell_type": "code",
   "execution_count": 58,
   "metadata": {},
   "outputs": [
    {
     "data": {
      "text/plain": [
       "2240"
      ]
     },
     "execution_count": 58,
     "metadata": {},
     "output_type": "execute_result"
    }
   ],
   "source": [
    "multicands = (2, 4, 5, 7, 8)\n",
    "product = 1\n",
    "for x in multicands:\n",
    "    product = x * product\n",
    "product"
   ]
  },
  {
   "cell_type": "code",
   "execution_count": 59,
   "metadata": {},
   "outputs": [
    {
     "name": "stdout",
     "output_type": "stream",
     "text": [
      "HELLO"
     ]
    }
   ],
   "source": [
    "# printing upper case in one line without space\n",
    "s = 'stenograpHy is the practicE of conceaLing a file message, image or video within another fiLe, message, video Or image.'\n",
    "for char in s:\n",
    "    if char.isupper():\n",
    "        print (char, end='')\n",
    "    \n"
   ]
  },
  {
   "cell_type": "code",
   "execution_count": 60,
   "metadata": {},
   "outputs": [
    {
     "name": "stdout",
     "output_type": "stream",
     "text": [
      "Doing work. i= 0\n",
      "Doing work. i= 1\n",
      "Doing work. i= 2\n",
      "Doing work. i= 3\n",
      "Doing work. i= 4\n"
     ]
    }
   ],
   "source": [
    "for i in range(5):\n",
    "    print(\"Doing work. i=\", i)"
   ]
  },
  {
   "cell_type": "code",
   "execution_count": 61,
   "metadata": {},
   "outputs": [
    {
     "name": "stdout",
     "output_type": "stream",
     "text": [
      "0 2 4 6 8 "
     ]
    }
   ],
   "source": [
    "i = 0\n",
    "while i < 10:\n",
    "    print(i, end = ' ')\n",
    "    i += 2"
   ]
  },
  {
   "cell_type": "code",
   "execution_count": 67,
   "metadata": {},
   "outputs": [
    {
     "name": "stdout",
     "output_type": "stream",
     "text": [
      "[0, 1, 4, 9, 16, 25, 36, 49, 64, 81]\n",
      "[0, 1, 4, 9, 16, 25, 36, 49, 64, 81]\n"
     ]
    }
   ],
   "source": [
    "# List comprehension\n",
    "squares = [n**2 for n in range (10)]\n",
    "print(squares)\n",
    "\n",
    "\n",
    "# same can be achieved by loop\n",
    "squares = []\n",
    "for n in range(10):\n",
    "    squares.append(n ** 2)\n",
    "print(squares)"
   ]
  },
  {
   "cell_type": "code",
   "execution_count": 69,
   "metadata": {},
   "outputs": [
    {
     "data": {
      "text/plain": [
       "['Venus', 'Earth', 'Mars']"
      ]
     },
     "execution_count": 69,
     "metadata": {},
     "output_type": "execute_result"
    }
   ],
   "source": [
    "# List comprehension\n",
    "short_planets = [planet for planet in planets if len(planet) < 6]\n",
    "short_planets"
   ]
  },
  {
   "cell_type": "code",
   "execution_count": 70,
   "metadata": {},
   "outputs": [
    {
     "data": {
      "text/plain": [
       "['VENUS!', 'EARTH!', 'MARS!']"
      ]
     },
     "execution_count": 70,
     "metadata": {},
     "output_type": "execute_result"
    }
   ],
   "source": [
    "# all caps with list comprehension\n",
    "loud_short_planets = [planet.upper() + '!' for planet in planets if len(planet) < 6]\n",
    "loud_short_planets"
   ]
  },
  {
   "cell_type": "code",
   "execution_count": 72,
   "metadata": {},
   "outputs": [
    {
     "data": {
      "text/plain": [
       "[32, 32, 32, 32, 32, 32, 32, 32]"
      ]
     },
     "execution_count": 72,
     "metadata": {},
     "output_type": "execute_result"
    }
   ],
   "source": [
    "[32 for planet in planets]"
   ]
  },
  {
   "cell_type": "code",
   "execution_count": 74,
   "metadata": {},
   "outputs": [],
   "source": [
    "def count_negatives(nums):\n",
    "    n_negative = 0\n",
    "    for num in nums:\n",
    "        if num < 0:\n",
    "            n_negative = n_negative + 1\n",
    "            \n",
    "    return n_negative"
   ]
  },
  {
   "cell_type": "code",
   "execution_count": 76,
   "metadata": {},
   "outputs": [],
   "source": [
    "def count_negatives (nums):\n",
    "    return len([num for num in nums if num < 0])"
   ]
  },
  {
   "cell_type": "code",
   "execution_count": 77,
   "metadata": {},
   "outputs": [],
   "source": [
    "def count_negatives (nums):\n",
    "    return sum([num < 0 for num in nums])"
   ]
  },
  {
   "cell_type": "code",
   "execution_count": null,
   "metadata": {},
   "outputs": [],
   "source": [
    "\n",
    "    "
   ]
  },
  {
   "cell_type": "code",
   "execution_count": null,
   "metadata": {},
   "outputs": [],
   "source": []
  }
 ],
 "metadata": {
  "kernelspec": {
   "display_name": "Python 3",
   "language": "python",
   "name": "python3"
  },
  "language_info": {
   "codemirror_mode": {
    "name": "ipython",
    "version": 3
   },
   "file_extension": ".py",
   "mimetype": "text/x-python",
   "name": "python",
   "nbconvert_exporter": "python",
   "pygments_lexer": "ipython3",
   "version": "3.7.4"
  }
 },
 "nbformat": 4,
 "nbformat_minor": 2
}
